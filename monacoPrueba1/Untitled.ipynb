{
 "cells": [
  {
   "cell_type": "code",
   "execution_count": 16,
   "id": "cd1bd6ad-670c-44b6-ac4a-0658266c4136",
   "metadata": {},
   "outputs": [
    {
     "name": "stdout",
     "output_type": "stream",
     "text": [
      "Sum: 105\n",
      "Tiempo de ejecución: 0.15234947204589844ms\n",
      "Res: 5\n",
      "Tiempo de ejecución: 0.03218650817871094ms\n",
      "Pow: 1267650600228229401496703205376\n",
      "Tiempo de ejecución: 0.0324249267578125ms\n"
     ]
    }
   ],
   "source": [
    "import time\n",
    "\n",
    "def calculaTiempo(funcion):\n",
    "    def imprimeModificado(n):\n",
    "        inicio = time.time()\n",
    "        funcion(n)\n",
    "        print(f\"Tiempo de ejecución: {(time.time() - inicio)*1000}ms\")\n",
    "    return imprimeModificado\n",
    "\n",
    "@calculaTiempo\n",
    "def suma100(n):\n",
    "    print(f\"Sum: {n+100}\")\n",
    "\n",
    "@calculaTiempo\n",
    "def resta100(n):\n",
    "    print(f\"Res: {n-100}\")\n",
    "\n",
    "@calculaTiempo\n",
    "def elevaA100(n):\n",
    "    print(f\"Pow: {n**100}\")\n",
    "\n",
    "suma100(5)\n",
    "resta100(105)\n",
    "elevaA100(2)"
   ]
  },
  {
   "cell_type": "code",
   "execution_count": null,
   "id": "c8319ac6-fca5-45e8-9247-c6ec785b08d8",
   "metadata": {},
   "outputs": [],
   "source": []
  }
 ],
 "metadata": {
  "kernelspec": {
   "display_name": "Python 3 (ipykernel)",
   "language": "python",
   "name": "python3"
  },
  "language_info": {
   "codemirror_mode": {
    "name": "ipython",
    "version": 3
   },
   "file_extension": ".py",
   "mimetype": "text/x-python",
   "name": "python",
   "nbconvert_exporter": "python",
   "pygments_lexer": "ipython3",
   "version": "3.13.4"
  }
 },
 "nbformat": 4,
 "nbformat_minor": 5
}
