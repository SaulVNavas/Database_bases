{
 "cells": [
  {
   "cell_type": "code",
   "execution_count": 2,
   "id": "271fd015-06c6-4b66-8869-888d625daa0c",
   "metadata": {},
   "outputs": [
    {
     "name": "stdout",
     "output_type": "stream",
     "text": [
      "Ejecutando sumar\n",
      "5\n"
     ]
    }
   ],
   "source": [
    "def decorador(func):\n",
    "    def envoltura(*args, **kwargs):\n",
    "        print(\"Ejecutando\", func.__name__)\n",
    "        return func(*args, **kwargs)\n",
    "    return envoltura\n",
    "\n",
    "@decorador\n",
    "def sumar(a, b):\n",
    "    return a + b\n",
    "\n",
    "print(sumar(2, 3))"
   ]
  },
  {
   "cell_type": "code",
   "execution_count": 3,
   "id": "ef814dae-b585-4c3c-a7fa-62a311105bc4",
   "metadata": {},
   "outputs": [
    {
     "name": "stdout",
     "output_type": "stream",
     "text": [
      "Hola\n",
      "Hola\n",
      "Hola\n"
     ]
    }
   ],
   "source": [
    "def repetir(n):  # <-- decorador con argumento\n",
    "    def decorador(func):\n",
    "        def envoltura(*args, **kwargs):\n",
    "            for _ in range(n):\n",
    "                func(*args, **kwargs)\n",
    "        return envoltura\n",
    "    return decorador\n",
    "\n",
    "@repetir(3)\n",
    "def hola():\n",
    "    print(\"Hola\")\n",
    "\n",
    "hola()"
   ]
  },
  {
   "cell_type": "code",
   "execution_count": null,
   "id": "09c2a866-8952-4b80-921f-77f05fe52225",
   "metadata": {},
   "outputs": [],
   "source": []
  }
 ],
 "metadata": {
  "kernelspec": {
   "display_name": "Python 3 (ipykernel)",
   "language": "python",
   "name": "python3"
  },
  "language_info": {
   "codemirror_mode": {
    "name": "ipython",
    "version": 3
   },
   "file_extension": ".py",
   "mimetype": "text/x-python",
   "name": "python",
   "nbconvert_exporter": "python",
   "pygments_lexer": "ipython3",
   "version": "3.13.4"
  }
 },
 "nbformat": 4,
 "nbformat_minor": 5
}
